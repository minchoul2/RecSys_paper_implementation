{
 "cells": [
  {
   "cell_type": "code",
   "execution_count": 1,
   "id": "26f9d645-dc19-44a1-8824-ed463820555f",
   "metadata": {},
   "outputs": [],
   "source": [
    "import numpy as np\n",
    "import pandas as pd\n",
    "\n",
    "import torch\n",
    "import torch.nn as nn\n",
    "import torch.nn.functional as F\n",
    "\n",
    "import warnings\n",
    "\n",
    "warnings.filterwarnings(action='ignore')\n",
    "\n",
    "data_dir = '/content/drive/MyDrive/RecsysTutorial/Data/MovieLens/'\n",
    "model_dir = '/content/drive/MyDrive/RecsysTutorial/Model/'"
   ]
  },
  {
   "cell_type": "code",
   "execution_count": 2,
   "id": "48285511-0636-4535-85a3-d1413c9eb5ff",
   "metadata": {},
   "outputs": [
    {
     "data": {
      "text/html": [
       "<div>\n",
       "<style scoped>\n",
       "    .dataframe tbody tr th:only-of-type {\n",
       "        vertical-align: middle;\n",
       "    }\n",
       "\n",
       "    .dataframe tbody tr th {\n",
       "        vertical-align: top;\n",
       "    }\n",
       "\n",
       "    .dataframe thead th {\n",
       "        text-align: right;\n",
       "    }\n",
       "</style>\n",
       "<table border=\"1\" class=\"dataframe\">\n",
       "  <thead>\n",
       "    <tr style=\"text-align: right;\">\n",
       "      <th></th>\n",
       "      <th>userId</th>\n",
       "      <th>movieId</th>\n",
       "      <th>rating</th>\n",
       "      <th>timestamp</th>\n",
       "    </tr>\n",
       "  </thead>\n",
       "  <tbody>\n",
       "    <tr>\n",
       "      <th>0</th>\n",
       "      <td>1</td>\n",
       "      <td>1</td>\n",
       "      <td>4.0</td>\n",
       "      <td>964982703</td>\n",
       "    </tr>\n",
       "    <tr>\n",
       "      <th>1</th>\n",
       "      <td>1</td>\n",
       "      <td>3</td>\n",
       "      <td>4.0</td>\n",
       "      <td>964981247</td>\n",
       "    </tr>\n",
       "    <tr>\n",
       "      <th>2</th>\n",
       "      <td>1</td>\n",
       "      <td>6</td>\n",
       "      <td>4.0</td>\n",
       "      <td>964982224</td>\n",
       "    </tr>\n",
       "    <tr>\n",
       "      <th>3</th>\n",
       "      <td>1</td>\n",
       "      <td>47</td>\n",
       "      <td>5.0</td>\n",
       "      <td>964983815</td>\n",
       "    </tr>\n",
       "    <tr>\n",
       "      <th>4</th>\n",
       "      <td>1</td>\n",
       "      <td>50</td>\n",
       "      <td>5.0</td>\n",
       "      <td>964982931</td>\n",
       "    </tr>\n",
       "    <tr>\n",
       "      <th>5</th>\n",
       "      <td>1</td>\n",
       "      <td>70</td>\n",
       "      <td>3.0</td>\n",
       "      <td>964982400</td>\n",
       "    </tr>\n",
       "    <tr>\n",
       "      <th>6</th>\n",
       "      <td>1</td>\n",
       "      <td>101</td>\n",
       "      <td>5.0</td>\n",
       "      <td>964980868</td>\n",
       "    </tr>\n",
       "    <tr>\n",
       "      <th>7</th>\n",
       "      <td>1</td>\n",
       "      <td>110</td>\n",
       "      <td>4.0</td>\n",
       "      <td>964982176</td>\n",
       "    </tr>\n",
       "    <tr>\n",
       "      <th>8</th>\n",
       "      <td>1</td>\n",
       "      <td>151</td>\n",
       "      <td>5.0</td>\n",
       "      <td>964984041</td>\n",
       "    </tr>\n",
       "    <tr>\n",
       "      <th>9</th>\n",
       "      <td>1</td>\n",
       "      <td>157</td>\n",
       "      <td>5.0</td>\n",
       "      <td>964984100</td>\n",
       "    </tr>\n",
       "  </tbody>\n",
       "</table>\n",
       "</div>"
      ],
      "text/plain": [
       "   userId  movieId  rating  timestamp\n",
       "0       1        1     4.0  964982703\n",
       "1       1        3     4.0  964981247\n",
       "2       1        6     4.0  964982224\n",
       "3       1       47     5.0  964983815\n",
       "4       1       50     5.0  964982931\n",
       "5       1       70     3.0  964982400\n",
       "6       1      101     5.0  964980868\n",
       "7       1      110     4.0  964982176\n",
       "8       1      151     5.0  964984041\n",
       "9       1      157     5.0  964984100"
      ]
     },
     "execution_count": 2,
     "metadata": {},
     "output_type": "execute_result"
    }
   ],
   "source": [
    "ratings_df = pd.read_csv('./ml-100k/ratings.csv')\n",
    "ratings_df.head(10)"
   ]
  },
  {
   "cell_type": "code",
   "execution_count": 3,
   "id": "c9305766-be2e-4d02-8cf4-3c47a6cfaef0",
   "metadata": {},
   "outputs": [
    {
     "name": "stdout",
     "output_type": "stream",
     "text": [
      "전체 User 수: 610\n",
      "전체 Item 수: 9724\n",
      "행렬의 희소성: 0.9830\n"
     ]
    }
   ],
   "source": [
    "num_user = ratings_df['userId'].nunique()\n",
    "num_item = ratings_df['movieId'].nunique()\n",
    "\n",
    "sparsity = 1 - len(ratings_df) / (num_user * num_item)\n",
    "\n",
    "print(f'전체 User 수: {num_user}')\n",
    "print(f'전체 Item 수: {num_item}')\n",
    "print(f'행렬의 희소성: {sparsity:.4f}')"
   ]
  },
  {
   "cell_type": "code",
   "execution_count": 6,
   "id": "97eee703-a3fd-40ee-a641-578b15f1f66a",
   "metadata": {},
   "outputs": [],
   "source": [
    "mu = ratings_df['rating'].mean()"
   ]
  },
  {
   "cell_type": "code",
   "execution_count": 7,
   "id": "6700e48f-7d89-4593-9b23-070f25f8cc9c",
   "metadata": {},
   "outputs": [],
   "source": [
    "def split_data(df, test_ratio = 0.1):\n",
    "    user_id_li = df['userId'].unique()\n",
    "    mask = []\n",
    "    for user_id in user_id_li:\n",
    "        _df = df[df['userId'] == user_id]\n",
    "        mask += [True if x == 1 else False for x in np.random.uniform(0, 1, (len(_df))) < 1 - test_ratio]\n",
    "    neg_mask = [not x for x in mask]\n",
    "\n",
    "    train_data, test_data = df[mask], df[neg_mask]\n",
    "    return train_data, test_data\n",
    "\n",
    "train_df, val_df = split_data(df = ratings_df)"
   ]
  },
  {
   "cell_type": "code",
   "execution_count": 8,
   "id": "b77c781f-d1f5-402c-bc76-1c4cab86d878",
   "metadata": {},
   "outputs": [
    {
     "name": "stdout",
     "output_type": "stream",
     "text": [
      "학습용 데이터에 없는 유저의 수 : 0\n",
      "학습용 데이터에 없는 영화의 수 : 362\n",
      "학습용 데이터의 수: 90702, 평가용 데이터의 수: 10134\n"
     ]
    }
   ],
   "source": [
    "not_in_val_user_num = len(set(val_df['userId'].unique().tolist()) - set(train_df['userId'].unique().tolist()))\n",
    "not_in_val_item_num = len(set(val_df['movieId'].unique().tolist()) - set(train_df['movieId'].unique().tolist()))\n",
    "\n",
    "print(f'학습용 데이터에 없는 유저의 수 : {not_in_val_user_num}')\n",
    "print(f'학습용 데이터에 없는 영화의 수 : {not_in_val_item_num}')\n",
    "print(f'학습용 데이터의 수: {len(train_df)}, 평가용 데이터의 수: {len(val_df)}')"
   ]
  },
  {
   "cell_type": "code",
   "execution_count": 9,
   "id": "e492a1a0-e667-4bf2-a9bf-1ae0a504702c",
   "metadata": {},
   "outputs": [],
   "source": [
    "user_encoder, user_decoder = {}, {}\n",
    "for idx, user_id in enumerate(ratings_df['userId'].unique()):\n",
    "    user_encoder[user_id] = idx\n",
    "    user_decoder[idx] = user_id\n",
    "\n",
    "item_encoder, item_decoder = {}, {}\n",
    "for idx, item_id in enumerate(ratings_df['movieId'].unique()):\n",
    "    item_encoder[item_id] = idx\n",
    "    item_decoder[idx] = item_id"
   ]
  },
  {
   "cell_type": "code",
   "execution_count": 10,
   "id": "c9b8690e-ec44-48ac-894a-30d877c458a2",
   "metadata": {},
   "outputs": [],
   "source": [
    "from torch.utils.data import Dataset\n",
    "from torch.utils.data import DataLoader\n",
    "\n",
    "class CustomDataset(Dataset):\n",
    "    def __init__(self, df, user_encoder, item_encoder):\n",
    "        self.df = df\n",
    "        self.user_encoder, self.item_encoder, = user_encoder, item_encoder\n",
    "        self.user = torch.tensor([self.user_encoder[i] for i in self.df['userId'].tolist()])\n",
    "        self.item = torch.tensor([self.item_encoder[i] for i in self.df['movieId'].tolist()])\n",
    "        self.rating = torch.tensor(self.df['rating'].tolist())\n",
    "\n",
    "    def __len__(self):\n",
    "        return len(self.df)\n",
    "\n",
    "    def __getitem__(self, idx):\n",
    "        user = self.user[idx]\n",
    "        item = self.item[idx]\n",
    "        rating = self.rating[idx]\n",
    "\n",
    "        return user, item, rating"
   ]
  },
  {
   "cell_type": "code",
   "execution_count": 11,
   "id": "213a95bb-b156-4089-b145-2d6dab7df7ed",
   "metadata": {},
   "outputs": [],
   "source": [
    "from matplotlib import path\n",
    "class MF(nn.Module):\n",
    "    def __init__(self, num_user, num_item, num_factor, mu):\n",
    "        super(MF, self).__init__()\n",
    "        self.P = nn.Embedding(num_user, num_factor)\n",
    "        self.Q = nn.Embedding(num_item, num_factor)\n",
    "        self.user_bias = nn.Embedding(num_user, 1)\n",
    "        self.item_bias = nn.Embedding(num_item, 1)\n",
    "        self.mu = mu\n",
    "\n",
    "    def forward(self, user, item):\n",
    "        p_u = self.P(user)\n",
    "        q_i = self.Q(item)\n",
    "        b_u = self.user_bias(user)\n",
    "        b_i = self.item_bias(item)\n",
    "        mu = self.mu\n",
    "\n",
    "        output = torch.sum((p_u * q_i), axis = 1) + torch.squeeze(b_u) + torch.squeeze(b_i) + mu\n",
    "        \n",
    "        return output.view(-1)"
   ]
  },
  {
   "cell_type": "code",
   "execution_count": 12,
   "id": "c01fde8f-b440-4104-9b6f-47bb2116f3a1",
   "metadata": {},
   "outputs": [],
   "source": [
    "def train(model, train_loader):\n",
    "    model.train()\n",
    "    train_loss = 0\n",
    "\n",
    "    for user, item, rating in train_loader:\n",
    "        user = user.to(device)\n",
    "        item = item.to(device)\n",
    "        rating = rating.to(device)\n",
    "\n",
    "        optimizer.zero_grad()\n",
    "        output = model(user, item)\n",
    "\n",
    "        loss = criterion(output, rating)\n",
    "\n",
    "        loss.backward()\n",
    "        optimizer.step()\n",
    "\n",
    "        train_loss += loss.item()\n",
    "    \n",
    "    train_loss = train_loss / len(train_loader)\n",
    "\n",
    "    return train_loss\n",
    "\n",
    "\n",
    "def evaluate(model, test_loader):\n",
    "    model.eval()\n",
    "    test_loss = 0\n",
    "\n",
    "    with torch.no_grad():\n",
    "        for user, item, rating in test_loader:\n",
    "            user = user.to(device)\n",
    "            item = item.to(device)\n",
    "            rating = rating.to(device)\n",
    "\n",
    "            output = model(user, item)\n",
    "\n",
    "            loss = criterion(output, rating)\n",
    "\n",
    "            test_loss += loss.item()\n",
    "\n",
    "    test_loss = test_loss / len(test_loader)\n",
    "\n",
    "    return test_loss"
   ]
  },
  {
   "cell_type": "code",
   "execution_count": 16,
   "id": "7c20b945-51f2-4bd3-b90f-17f6dd6076a8",
   "metadata": {},
   "outputs": [
    {
     "data": {
      "text/plain": [
       "device(type='cuda')"
      ]
     },
     "execution_count": 16,
     "metadata": {},
     "output_type": "execute_result"
    }
   ],
   "source": [
    "num_factor = 100\n",
    "batch_size = 128\n",
    "epochs = 30\n",
    "device = torch.device('cuda') if torch.cuda.is_available() else torch.device('cpu')\n",
    "lr = 0.005\n",
    "device"
   ]
  },
  {
   "cell_type": "code",
   "execution_count": 14,
   "id": "22c660b8-b24f-425f-a3bb-4c5973e2a342",
   "metadata": {},
   "outputs": [],
   "source": [
    "model = MF(num_user = num_user, num_item = num_item, num_factor = num_factor, mu = mu).to(device)\n",
    "criterion = nn.MSELoss()\n",
    "optimizer = torch.optim.Adam(model.parameters(), lr = lr)\n",
    "\n",
    "train_dataset = CustomDataset(df = ratings_df, user_encoder = user_encoder, item_encoder = item_encoder)\n",
    "val_dataset = CustomDataset(df = val_df, user_encoder = user_encoder, item_encoder = item_encoder)\n",
    "\n",
    "train_loader = DataLoader(train_dataset, batch_size = batch_size, shuffle = True, drop_last = False)\n",
    "val_loader = DataLoader(val_dataset, batch_size = batch_size, shuffle = False, drop_last = False)"
   ]
  },
  {
   "cell_type": "code",
   "execution_count": 17,
   "id": "e86e79a5-e38f-4fdb-9523-6364a483a48c",
   "metadata": {
    "collapsed": true,
    "jupyter": {
     "outputs_hidden": true
    },
    "tags": []
   },
   "outputs": [
    {
     "name": "stdout",
     "output_type": "stream",
     "text": [
      "[EPOCH: 1], Train Loss: 0.8943, Val Loss: 0.8920\n",
      "[EPOCH: 2], Train Loss: 0.8451, Val Loss: 0.8589\n",
      "[EPOCH: 3], Train Loss: 0.7953, Val Loss: 0.8274\n",
      "[EPOCH: 4], Train Loss: 0.7601, Val Loss: 0.7955\n",
      "[EPOCH: 5], Train Loss: 0.7296, Val Loss: 0.7636\n",
      "[EPOCH: 6], Train Loss: 0.6886, Val Loss: 0.7016\n",
      "[EPOCH: 7], Train Loss: 0.6476, Val Loss: 0.6639\n",
      "[EPOCH: 8], Train Loss: 0.6193, Val Loss: 0.6192\n",
      "[EPOCH: 9], Train Loss: 0.5931, Val Loss: 0.5879\n",
      "[EPOCH: 10], Train Loss: 0.5604, Val Loss: 0.5751\n",
      "[EPOCH: 11], Train Loss: 0.5319, Val Loss: 0.5512\n",
      "[EPOCH: 12], Train Loss: 0.5101, Val Loss: 0.5335\n",
      "[EPOCH: 13], Train Loss: 0.4869, Val Loss: 0.5102\n",
      "[EPOCH: 14], Train Loss: 0.4598, Val Loss: 0.4833\n",
      "[EPOCH: 15], Train Loss: 0.4405, Val Loss: 0.4637\n",
      "[EPOCH: 16], Train Loss: 0.4234, Val Loss: 0.4403\n",
      "[EPOCH: 17], Train Loss: 0.4027, Val Loss: 0.4244\n",
      "[EPOCH: 18], Train Loss: 0.3865, Val Loss: 0.4126\n",
      "[EPOCH: 19], Train Loss: 0.3675, Val Loss: 0.3943\n",
      "[EPOCH: 20], Train Loss: 0.3567, Val Loss: 0.3809\n",
      "[EPOCH: 21], Train Loss: 0.3437, Val Loss: 0.3615\n",
      "[EPOCH: 22], Train Loss: 0.3281, Val Loss: 0.3512\n",
      "[EPOCH: 23], Train Loss: 0.3136, Val Loss: 0.3319\n",
      "[EPOCH: 24], Train Loss: 0.3027, Val Loss: 0.3146\n",
      "[EPOCH: 25], Train Loss: 0.2953, Val Loss: 0.3110\n",
      "[EPOCH: 26], Train Loss: 0.2852, Val Loss: 0.3066\n",
      "[EPOCH: 27], Train Loss: 0.2778, Val Loss: 0.3005\n",
      "[EPOCH: 28], Train Loss: 0.2683, Val Loss: 0.2952\n",
      "[EPOCH: 29], Train Loss: 0.2616, Val Loss: 0.2786\n",
      "[EPOCH: 30], Train Loss: 0.2547, Val Loss: 0.2717\n"
     ]
    }
   ],
   "source": [
    "best_metric = 1\n",
    "\n",
    "for epoch in range(1, epochs + 1):\n",
    "    train_loss = train(model, train_loader)\n",
    "    val_loss = evaluate(model, val_loader)\n",
    "\n",
    "    print(f\"[EPOCH: {epoch}], Train Loss: {train_loss:.4f}, Val Loss: {val_loss:.4f}\")\n",
    "\n",
    "    if val_loss < best_metric:\n",
    "        best_metric = val_loss\n",
    "        "
   ]
  },
  {
   "cell_type": "code",
   "execution_count": null,
   "id": "051fc4ff-a9d2-4c8c-b9bd-70d81df592cb",
   "metadata": {},
   "outputs": [],
   "source": []
  }
 ],
 "metadata": {
  "kernelspec": {
   "display_name": "Python 3 (ipykernel)",
   "language": "python",
   "name": "python3"
  },
  "language_info": {
   "codemirror_mode": {
    "name": "ipython",
    "version": 3
   },
   "file_extension": ".py",
   "mimetype": "text/x-python",
   "name": "python",
   "nbconvert_exporter": "python",
   "pygments_lexer": "ipython3",
   "version": "3.8.12"
  }
 },
 "nbformat": 4,
 "nbformat_minor": 5
}
