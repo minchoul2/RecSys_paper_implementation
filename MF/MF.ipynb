{
 "cells": [
  {
   "cell_type": "code",
   "execution_count": 5,
   "id": "05847ca7-338b-4fad-802e-41c0c0dabb9f",
   "metadata": {},
   "outputs": [],
   "source": [
    "import os \n",
    "import pandas as pd\n",
    "import torch\n",
    "import numpy as np\n",
    "import matplotlib.pyplot as plt\n",
    "from sklearn.preprocessing import LabelEncoder"
   ]
  },
  {
   "cell_type": "markdown",
   "id": "838597dc-f2eb-46f0-b868-942ded36192d",
   "metadata": {},
   "source": [
    "# Read data"
   ]
  },
  {
   "cell_type": "code",
   "execution_count": 20,
   "id": "8b42227d-b411-4f87-a309-6462f73ea6b1",
   "metadata": {
    "tags": []
   },
   "outputs": [],
   "source": [
    "def read_ml_small():\n",
    "    data_dir = './ml-100k/ratings.csv'\n",
    "    data = pd.read_csv(data_dir)\n",
    "    num_users = data.userId.unique().shape[0]\n",
    "    num_items = data.movieId.unique().shape[0]\n",
    "    \n",
    "    return data, num_users, num_items"
   ]
  },
  {
   "cell_type": "markdown",
   "id": "974f1fab-9faf-4fb4-89f0-063df6d0a3bb",
   "metadata": {},
   "source": [
    "# Statistics of the Dataset"
   ]
  },
  {
   "cell_type": "code",
   "execution_count": 21,
   "id": "609c0853-990b-44df-a675-ea2d4e3008a9",
   "metadata": {
    "tags": []
   },
   "outputs": [
    {
     "name": "stdout",
     "output_type": "stream",
     "text": [
      "유저수 : 610\n",
      "영화수 : 9724\n",
      "matrix sparsity : 0.9830003169443864\n",
      "       userId  movieId  rating   timestamp\n",
      "91447     593     2355     2.5  1181008115\n",
      "52493     342     2706     4.0  1042821871\n",
      "9852       64     6296     4.0  1161563806\n",
      "37895     256   134130     4.5  1446579780\n",
      "75796     477     5291     4.5  1200939343\n"
     ]
    }
   ],
   "source": [
    "data, num_users, num_items = read_ml_small()\n",
    "sparsity = 1 - len(data) / (num_users * num_items) # 데이터에서 rating이 빈 것의 비율(행렬 만들었을 때)\n",
    "\n",
    "print(f'유저수 : {num_users}') \n",
    "print(f'영화수 : {num_items}')\n",
    "print(f'matrix sparsity : {sparsity}')\n",
    "print(data.sample(5))"
   ]
  },
  {
   "cell_type": "code",
   "execution_count": 22,
   "id": "2f56351e-b073-4446-be01-d853e618f279",
   "metadata": {
    "tags": []
   },
   "outputs": [
    {
     "data": {
      "image/png": "[encoded data removed]",
      "text/plain": [
       "<Figure size 576x360 with 1 Axes>"
      ]
     },
     "metadata": {
      "needs_background": "light"
     },
     "output_type": "display_data"
    }
   ],
   "source": [
    "# count rating barchart\n",
    "rating_cnt = data.rating.value_counts().sort_index()\n",
    "\n",
    "fig, ax = plt.subplots(1,1, figsize = (8,5))\n",
    "\n",
    "ax.plot(rating_cnt, \n",
    "       color = 'black',\n",
    "       marker = '*',\n",
    "       linestyle = '--')\n",
    "ax.bar(rating_cnt.index, rating_cnt, \n",
    "       color = 'darkgray',\n",
    "       width = 0.4)\n",
    "\n",
    "ax.set_title('Distribution of Ratings in MovieLens')\n",
    "ax.set_xlabel('rating')\n",
    "ax.set_ylabel('# of rating')\n",
    "ax.set_xticks(rating_cnt.index)\n",
    "plt.show()"
   ]
  },
  {
   "cell_type": "markdown",
   "id": "3b253b75-07aa-4633-9d3a-aab78c725542",
   "metadata": {},
   "source": [
    "# Label Encoding"
   ]
  },
  {
   "cell_type": "code",
   "execution_count": 24,
   "id": "65c7b19f-6b55-46b7-a92b-6b0658bb48f0",
   "metadata": {
    "tags": []
   },
   "outputs": [],
   "source": [
    "user_le = LabelEncoder()\n",
    "item_le = LabelEncoder()\n",
    "data['user_id_idx'] = user_le.fit_transform(data['userId'].values)\n",
    "data['item_id_idx'] = item_le.fit_transform(data['movieId'].values)"
   ]
  },
  {
   "cell_type": "markdown",
   "id": "b007980b-25e8-4511-8cfd-5eddaf0a349c",
   "metadata": {},
   "source": [
    "# mu"
   ]
  },
  {
   "cell_type": "code",
   "execution_count": 25,
   "id": "6a5cbb4a-b45b-4c54-a2ef-1368770a9eba",
   "metadata": {},
   "outputs": [
    {
     "data": {
      "text/plain": [
       "tensor(3.5016)"
      ]
     },
     "execution_count": 25,
     "metadata": {},
     "output_type": "execute_result"
    }
   ],
   "source": [
    "mu = torch.tensor(data['rating'].mean())\n",
    "mu"
   ]
  },
  {
   "cell_type": "markdown",
   "id": "b0036d23-eafb-4bce-91ab-977c05f75cd0",
   "metadata": {},
   "source": [
    "# set Dataset"
   ]
  },
  {
   "cell_type": "code",
   "execution_count": 49,
   "id": "3d5b7b4a-32c8-45d3-a87a-b071e341215c",
   "metadata": {},
   "outputs": [],
   "source": [
    "from torch.utils.data import Dataset\n",
    "\n",
    "class MovielensDataset(Dataset):\n",
    "    \"\"\"MovieLens dataset\"\"\"\n",
    "    \n",
    "    def __init__(self,data, train = False, test_ratio = 0.1):\n",
    "        self.data = data\n",
    "        self.train = train\n",
    "        self.test_ratio = test_ratio\n",
    "        \n",
    "        # split data\n",
    "        self.train_data, self.test_data = self.split_train_test_data(self.data,test_ratio)\n",
    "        \n",
    "        # train/test confirmed\n",
    "        if self.train == False:\n",
    "            self.data = self.train_data\n",
    "        else:\n",
    "            self.data = self.test_data\n",
    "            \n",
    "        # set user, item, rating    \n",
    "        self.users = torch.tensor(self.data['user_id_idx'].values) \n",
    "        self.items = torch.tensor(self.data['item_id_idx'].values)\n",
    "        self.ratings = torch.tensor(self.data['rating'].values) \n",
    "    \n",
    "\n",
    "    def split_train_test_data(self, data, test_ratio = 0.1):\n",
    "        \"\"\"\n",
    "        train_test_split(data test_size train_size, stratify = self.df['user_id_idx'].values)로 대체 가능\n",
    "        stratify -> Label별 sampling \n",
    "        \"\"\"\n",
    "        user_id_uniq = self.data.userId.unique()\n",
    "        mask = []\n",
    "        for i in user_id_uniq:\n",
    "            data_user = self.data[self.data['userId'] == i]\n",
    "            mask.extend([True if x==1 else False for x in np.random.uniform(0,1,len(data_user))<1-test_ratio])\n",
    "        neg_mask = [not x for x in mask]\n",
    "        train_data, test_data = data[mask], data[neg_mask]\n",
    "        return train_data, test_data\n",
    "    \n",
    "    def __len__(self):\n",
    "        return len(self.data)\n",
    "    \n",
    "    def __getitem__(self,idx):\n",
    "        users = self.users[idx]\n",
    "        items = self.items[idx]\n",
    "        ratings = self.ratings[idx]\n",
    "        return (users, items, ratings.float())\n",
    "        "
   ]
  },
  {
   "cell_type": "markdown",
   "id": "82b4a5f4-8c47-437d-b6cf-c030139df7f4",
   "metadata": {},
   "source": [
    "# Model (MF)"
   ]
  },
  {
   "cell_type": "code",
   "execution_count": 103,
   "id": "62ccc576-3766-435d-80bd-e7e4d64f5efc",
   "metadata": {},
   "outputs": [],
   "source": [
    "from torch import nn\n",
    "from torch.nn import Module\n",
    "\n",
    "class MF(Module):\n",
    "    \"\"\"MF\"\"\"\n",
    "    \n",
    "    def __init__(self, num_factors, num_users, num_items, mu):\n",
    "        super(MF,self).__init__()\n",
    "        # set latent matrix shape\n",
    "        self.P = nn.Embedding(num_users, num_factors)\n",
    "        self.Q = nn.Embedding(num_items, num_factors)\n",
    "        \n",
    "        # set bias shape\n",
    "        self.user_bias = nn.Embedding(num_users,  1)\n",
    "        self.item_bias = nn.Embedding(num_items,  1)\n",
    "        \n",
    "        self.mu = mu\n",
    "        \n",
    "    def forward(self, user_id, item_id):\n",
    "        P_u = self.P(user_id)\n",
    "        Q_i = self.Q(item_id)\n",
    "        b_u = self.user_bias(user_id)\n",
    "        b_i = self.item_bias(item_id)\n",
    "        mu = self.mu\n",
    "        outputs = torch.sum((P_u*Q_i),axis = 1) + torch.squeeze(b_u) + torch.squeeze(b_i) + mu\n",
    "        \n",
    "        return outputs.flatten()"
   ]
  },
  {
   "cell_type": "markdown",
   "id": "013d687c-7f7e-40dc-9200-0fbafee43059",
   "metadata": {},
   "source": [
    "# Train & evaluation function"
   ]
  },
  {
   "cell_type": "code",
   "execution_count": 97,
   "id": "a64d501d-dfd8-4ac8-9b4e-777ec9864394",
   "metadata": {},
   "outputs": [],
   "source": [
    "def train(model, trian_iter, loss, optm, device):\n",
    "    model.train()\n",
    "    loss_sum = 0\n",
    "    \n",
    "    for users, items, ratings in trian_iter:\n",
    "        users = users.to(device)\n",
    "        items = items.to(device)\n",
    "        ratings = ratings.to(device)\n",
    "        \n",
    "        preds = model(users, items)\n",
    "        loss_out = loss(preds, ratings)\n",
    "        \n",
    "        # update\n",
    "        optm.zero_grad()\n",
    "        loss_out.backward()\n",
    "        optm.step()\n",
    "        \n",
    "        loss_sum += loss_out.item()\n",
    "    \n",
    "    loss_avg = loss_sum/len(trian_iter)\n",
    "    \n",
    "    return loss_avg"
   ]
  },
  {
   "cell_type": "code",
   "execution_count": 98,
   "id": "77f07480-13bf-4cc9-ad49-d6f1d3fec71c",
   "metadata": {},
   "outputs": [],
   "source": [
    "def evaluate(model, test_iter, device):    \n",
    "    with torch.no_grad():\n",
    "        model.eval()\n",
    "        loss = nn.MSELoss()\n",
    "        loss_sum = 0\n",
    "        \n",
    "        for idx, (users,items,ratings) in enumerate(test_iter):\n",
    "            users = users.to(device)\n",
    "            items = items.to(device)\n",
    "            ratings = ratings.to(device)\n",
    "            \n",
    "            preds = model(users, items)\n",
    "            \n",
    "            loss_out = loss(preds, ratings)\n",
    "            \n",
    "            loss_sum += loss_out.item()\n",
    "\n",
    "    loss_avg = loss_sum / len(test_iter)\n",
    "    \n",
    "    return loss_avg"
   ]
  },
  {
   "cell_type": "markdown",
   "id": "becfd412-75bd-4a40-8645-1192552dc1c7",
   "metadata": {},
   "source": [
    "# Let's go"
   ]
  },
  {
   "cell_type": "code",
   "execution_count": 109,
   "id": "22031b88-3ad8-4f1b-bdbe-9ed592374874",
   "metadata": {},
   "outputs": [
    {
     "data": {
      "text/plain": [
       "device(type='cpu')"
      ]
     },
     "execution_count": 109,
     "metadata": {},
     "output_type": "execute_result"
    }
   ],
   "source": [
    "# 파라미터 설정\n",
    "\n",
    "device = torch.device('cuda') if torch.cuda.is_available() else torch.device('cpu') # device 설정\n",
    "\n",
    "num_factors = 30 # Latent factor 수\n",
    "batch_size = 128 # 배치사이즈\n",
    "epochs = 31 # 에포크 수\n",
    "lr = 0.01 # 학습률\n",
    "\n",
    "device"
   ]
  },
  {
   "cell_type": "code",
   "execution_count": 110,
   "id": "8c541164-dc2d-4186-a8f5-e674d5a94e34",
   "metadata": {
    "tags": []
   },
   "outputs": [],
   "source": [
    "from torch.utils.data import DataLoader\n",
    "\n",
    "# train/test data 불러오기 by Dataset&Dataloader\n",
    "train_dataset = MovielensDataset(data = data, train = True)\n",
    "test_dataset = MovielensDataset(data = data, train = False)\n",
    "\n",
    "train_loader = DataLoader(train_dataset, batch_size = batch_size, shuffle = True)\n",
    "test_loader = DataLoader(test_dataset, batch_size = batch_size, shuffle = True)"
   ]
  },
  {
   "cell_type": "code",
   "execution_count": 111,
   "id": "118d7559-e612-46f0-95d9-05c65bea3835",
   "metadata": {
    "tags": []
   },
   "outputs": [],
   "source": [
    "# 모델 객체 생성 \n",
    "model = MF(num_factors, num_users, num_items, mu).to(device)\n",
    "loss = nn.MSELoss() # loss 객체\n",
    "optm = torch.optim.Adam(model.parameters(), lr = lr) # optimizer 객체"
   ]
  },
  {
   "cell_type": "code",
   "execution_count": 112,
   "id": "003ae8c1-6200-4a80-94f8-4e71e21b4f78",
   "metadata": {
    "tags": []
   },
   "outputs": [
    {
     "name": "stdout",
     "output_type": "stream",
     "text": [
      "epoch: 0, train Loss: 29.6071, test Loss: 25.9087\n",
      "epoch: 5, train Loss: 1.3046, test Loss: 18.2497\n",
      "epoch: 10, train Loss: 0.2987, test Loss: 17.5976\n",
      "epoch: 15, train Loss: 0.2645, test Loss: 17.1890\n",
      "epoch: 20, train Loss: 0.2949, test Loss: 16.6662\n",
      "epoch: 25, train Loss: 0.3526, test Loss: 15.9398\n",
      "epoch: 30, train Loss: 0.4153, test Loss: 15.0477\n"
     ]
    },
    {
     "data": {
      "image/png": "[encoded data removed]",
      "text/plain": [
       "<Figure size 576x360 with 1 Axes>"
      ]
     },
     "metadata": {
      "needs_background": "light"
     },
     "output_type": "display_data"
    }
   ],
   "source": [
    "# 학습\n",
    "train_losses = []\n",
    "test_losses = []\n",
    "\n",
    "for epoch in range(epochs):\n",
    "\n",
    "    train_loss = train(model, train_loader, loss, optm, device)\n",
    "    test_loss = evaluate(model, test_loader, device)\n",
    "\n",
    "    train_losses.append(train_loss)\n",
    "    test_losses.append(test_loss)\n",
    "    \n",
    "    if epoch%5==0:\n",
    "        print(f'epoch: {epoch}, train Loss: {train_loss:.4f}, test Loss: {test_loss:.4f}')\n",
    "\n",
    "# 그래프\n",
    "fig, ax = plt.subplots(1,1, figsize = (8,5))\n",
    "\n",
    "ax.plot(train_losses, label = 'train_loss',\n",
    "       color = 'red',\n",
    "       marker = '*',\n",
    "       linestyle = '--')\n",
    "ax.plot(test_losses, label = 'test_loss',\n",
    "       color = 'blue',\n",
    "       marker = '.')\n",
    "\n",
    "ax.set_title('Train&test loss')\n",
    "ax.set_xlabel('Epoch')\n",
    "ax.set_ylabel('Loss')\n",
    "ax.legend()\n",
    "plt.show()"
   ]
  },
  {
   "cell_type": "code",
   "execution_count": null,
   "id": "a93ceae6-08ae-44c7-977a-8740fe479282",
   "metadata": {},
   "outputs": [],
   "source": []
  }
 ],
 "metadata": {
  "kernelspec": {
   "display_name": "Python 3",
   "language": "python",
   "name": "python3"
  },
  "language_info": {
   "codemirror_mode": {
    "name": "ipython",
    "version": 3
   },
   "file_extension": ".py",
   "mimetype": "text/x-python",
   "name": "python",
   "nbconvert_exporter": "python",
   "pygments_lexer": "ipython3",
   "version": "3.8.8"
  },
  "widgets": {
   "application/vnd.jupyter.widget-state+json": {
    "state": {},
    "version_major": 2,
    "version_minor": 0
   }
  }
 },
 "nbformat": 4,
 "nbformat_minor": 5
}
