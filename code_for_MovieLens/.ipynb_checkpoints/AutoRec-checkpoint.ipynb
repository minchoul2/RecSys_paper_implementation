{
 "cells": [
  {
   "cell_type": "code",
   "execution_count": 4,
   "id": "05847ca7-338b-4fad-802e-41c0c0dabb9f",
   "metadata": {
    "ExecuteTime": {
     "end_time": "2022-02-18T11:52:52.347790Z",
     "start_time": "2022-02-18T11:52:47.386830Z"
    }
   },
   "outputs": [],
   "source": [
    "import os \n",
    "import pandas as pd\n",
    "import torch\n",
    "import numpy as np\n",
    "import matplotlib.pyplot as plt\n",
    "from sklearn.preprocessing import LabelEncoder"
   ]
  },
  {
   "cell_type": "markdown",
   "id": "838597dc-f2eb-46f0-b868-942ded36192d",
   "metadata": {},
   "source": [
    "# Read data"
   ]
  },
  {
   "cell_type": "code",
   "execution_count": 5,
   "id": "8b42227d-b411-4f87-a309-6462f73ea6b1",
   "metadata": {
    "ExecuteTime": {
     "end_time": "2022-02-18T11:52:57.637413Z",
     "start_time": "2022-02-18T11:52:57.626413Z"
    },
    "tags": []
   },
   "outputs": [],
   "source": [
    "def read_ml_small():\n",
    "    data_dir = './input/ratings.csv'\n",
    "    data = pd.read_csv(data_dir)\n",
    "    num_users = data.userId.unique().shape[0]\n",
    "    num_items = data.movieId.unique().shape[0]\n",
    "    \n",
    "    return data, num_users, num_items"
   ]
  },
  {
   "cell_type": "markdown",
   "id": "974f1fab-9faf-4fb4-89f0-063df6d0a3bb",
   "metadata": {},
   "source": [
    "# Statistics of the Dataset"
   ]
  },
  {
   "cell_type": "code",
   "execution_count": 6,
   "id": "609c0853-990b-44df-a675-ea2d4e3008a9",
   "metadata": {
    "ExecuteTime": {
     "end_time": "2022-02-18T11:52:59.050208Z",
     "start_time": "2022-02-18T11:52:58.984182Z"
    },
    "tags": []
   },
   "outputs": [
    {
     "name": "stdout",
     "output_type": "stream",
     "text": [
      "유저수 : 610\n",
      "영화수 : 9724\n",
      "matrix sparsity : 0.9830003169443864\n",
      "       userId  movieId  rating   timestamp\n",
      "30277     212      589     4.0  1523216806\n",
      "47967     310     3330     4.5  1078648511\n",
      "98611     607     2717     3.0   963079577\n",
      "58128     381      432     3.0  1167542292\n",
      "35918     244     1994     3.0   975075399\n"
     ]
    }
   ],
   "source": [
    "data, num_users, num_items = read_ml_small()\n",
    "sparsity = 1 - len(data) / (num_users * num_items) # 데이터에서 rating이 빈 것의 비율(행렬 만들었을 때)\n",
    "\n",
    "print(f'유저수 : {num_users}') \n",
    "print(f'영화수 : {num_items}')\n",
    "print(f'matrix sparsity : {sparsity}')\n",
    "print(data.sample(5))"
   ]
  },
  {
   "cell_type": "code",
   "execution_count": 7,
   "id": "2f56351e-b073-4446-be01-d853e618f279",
   "metadata": {
    "ExecuteTime": {
     "end_time": "2022-02-18T11:53:00.286622Z",
     "start_time": "2022-02-18T11:53:00.061329Z"
    },
    "tags": []
   },
   "outputs": [
    {
     "data": {
      "image/png": "[encoded data removed]",
      "text/plain": [
       "<Figure size 576x360 with 1 Axes>"
      ]
     },
     "metadata": {
      "needs_background": "light"
     },
     "output_type": "display_data"
    }
   ],
   "source": [
    "# count rating barchart\n",
    "rating_cnt = data.rating.value_counts().sort_index()\n",
    "\n",
    "fig, ax = plt.subplots(1,1, figsize = (8,5))\n",
    "\n",
    "ax.plot(rating_cnt, \n",
    "       color = 'black',\n",
    "       marker = '*',\n",
    "       linestyle = '--')\n",
    "ax.bar(rating_cnt.index, rating_cnt, \n",
    "       color = 'darkgray',\n",
    "       width = 0.4)\n",
    "\n",
    "ax.set_title('Distribution of Ratings in MovieLens')\n",
    "ax.set_xlabel('rating')\n",
    "ax.set_ylabel('# of rating')\n",
    "ax.set_xticks(rating_cnt.index)\n",
    "plt.show()"
   ]
  },
  {
   "cell_type": "markdown",
   "id": "3b253b75-07aa-4633-9d3a-aab78c725542",
   "metadata": {},
   "source": [
    "# Label Encoding"
   ]
  },
  {
   "cell_type": "code",
   "execution_count": 8,
   "id": "65c7b19f-6b55-46b7-a92b-6b0658bb48f0",
   "metadata": {
    "ExecuteTime": {
     "end_time": "2022-02-18T11:53:01.537471Z",
     "start_time": "2022-02-18T11:53:01.520447Z"
    },
    "tags": []
   },
   "outputs": [],
   "source": [
    "user_le = LabelEncoder()\n",
    "item_le = LabelEncoder()\n",
    "data['user_id_idx'] = user_le.fit_transform(data['userId'].values)\n",
    "data['item_id_idx'] = item_le.fit_transform(data['movieId'].values)"
   ]
  },
  {
   "cell_type": "code",
   "execution_count": 9,
   "id": "45af55e4-c27f-4442-9cb6-525ddf5a0b90",
   "metadata": {
    "ExecuteTime": {
     "end_time": "2022-02-18T11:53:03.245086Z",
     "start_time": "2022-02-18T11:53:03.232079Z"
    },
    "tags": []
   },
   "outputs": [
    {
     "data": {
      "text/html": [
       "<div>\n",
       "<style scoped>\n",
       "    .dataframe tbody tr th:only-of-type {\n",
       "        vertical-align: middle;\n",
       "    }\n",
       "\n",
       "    .dataframe tbody tr th {\n",
       "        vertical-align: top;\n",
       "    }\n",
       "\n",
       "    .dataframe thead th {\n",
       "        text-align: right;\n",
       "    }\n",
       "</style>\n",
       "<table border=\"1\" class=\"dataframe\">\n",
       "  <thead>\n",
       "    <tr style=\"text-align: right;\">\n",
       "      <th></th>\n",
       "      <th>userId</th>\n",
       "      <th>movieId</th>\n",
       "      <th>rating</th>\n",
       "      <th>timestamp</th>\n",
       "      <th>user_id_idx</th>\n",
       "      <th>item_id_idx</th>\n",
       "    </tr>\n",
       "  </thead>\n",
       "  <tbody>\n",
       "    <tr>\n",
       "      <th>0</th>\n",
       "      <td>1</td>\n",
       "      <td>1</td>\n",
       "      <td>4.0</td>\n",
       "      <td>964982703</td>\n",
       "      <td>0</td>\n",
       "      <td>0</td>\n",
       "    </tr>\n",
       "    <tr>\n",
       "      <th>1</th>\n",
       "      <td>1</td>\n",
       "      <td>3</td>\n",
       "      <td>4.0</td>\n",
       "      <td>964981247</td>\n",
       "      <td>0</td>\n",
       "      <td>2</td>\n",
       "    </tr>\n",
       "    <tr>\n",
       "      <th>2</th>\n",
       "      <td>1</td>\n",
       "      <td>6</td>\n",
       "      <td>4.0</td>\n",
       "      <td>964982224</td>\n",
       "      <td>0</td>\n",
       "      <td>5</td>\n",
       "    </tr>\n",
       "    <tr>\n",
       "      <th>3</th>\n",
       "      <td>1</td>\n",
       "      <td>47</td>\n",
       "      <td>5.0</td>\n",
       "      <td>964983815</td>\n",
       "      <td>0</td>\n",
       "      <td>43</td>\n",
       "    </tr>\n",
       "    <tr>\n",
       "      <th>4</th>\n",
       "      <td>1</td>\n",
       "      <td>50</td>\n",
       "      <td>5.0</td>\n",
       "      <td>964982931</td>\n",
       "      <td>0</td>\n",
       "      <td>46</td>\n",
       "    </tr>\n",
       "  </tbody>\n",
       "</table>\n",
       "</div>"
      ],
      "text/plain": [
       "   userId  movieId  rating  timestamp  user_id_idx  item_id_idx\n",
       "0       1        1     4.0  964982703            0            0\n",
       "1       1        3     4.0  964981247            0            2\n",
       "2       1        6     4.0  964982224            0            5\n",
       "3       1       47     5.0  964983815            0           43\n",
       "4       1       50     5.0  964982931            0           46"
      ]
     },
     "execution_count": 9,
     "metadata": {},
     "output_type": "execute_result"
    }
   ],
   "source": [
    "data.head(5)"
   ]
  },
  {
   "cell_type": "markdown",
   "id": "b0036d23-eafb-4bce-91ab-977c05f75cd0",
   "metadata": {},
   "source": [
    "# set Dataset"
   ]
  },
  {
   "cell_type": "code",
   "execution_count": 10,
   "id": "3d5b7b4a-32c8-45d3-a87a-b071e341215c",
   "metadata": {
    "ExecuteTime": {
     "end_time": "2022-02-18T11:53:04.200400Z",
     "start_time": "2022-02-18T11:53:04.184425Z"
    },
    "code_folding": [
     42
    ]
   },
   "outputs": [],
   "source": [
    "from torch.utils.data import Dataset\n",
    "\n",
    "class MovielensDataset(Dataset):\n",
    "    \"\"\"MovieLens dataset\"\"\"\n",
    "    \n",
    "    def __init__(self,data, train = False, test_ratio = 0.1):\n",
    "        self.data = data\n",
    "        self.train = train\n",
    "        self.test_ratio = test_ratio\n",
    "        self.num_items = len(self.data['item_id_idx'].unique())\n",
    "        self.num_users = len(self.data['user_id_idx'].unique())\n",
    "        # split data\n",
    "        self.train_data, self.test_data = self.split_train_test_data(self.data,\n",
    "                                                                     test_ratio)\n",
    "        \n",
    "        # train/test confirmed\n",
    "        if self.train == True:\n",
    "            self.data = self.train_data\n",
    "        else:\n",
    "            self.data = self.test_data\n",
    "            \n",
    "        # set user, item, rating    \n",
    "        self.users = torch.tensor(self.data['user_id_idx'].values) \n",
    "        self.items = torch.tensor(self.data['item_id_idx'].values)\n",
    "        self.ratings = torch.tensor(self.data['rating'].values) \n",
    "        \n",
    "        # set matrix\n",
    "        self.matrix = self.make_matrix()\n",
    "        \n",
    "    def make_matrix(self):\n",
    "        \"\"\"\n",
    "        matrix[item][user] = rating 형태로 반환\n",
    "        In AutoRec, instead of explicitly embedding users/items into low-dimensional space, \n",
    "        it uses the column/row of the interaction matrix as the input, \n",
    "        then reconstructs the interaction matrix in the output layer.\n",
    "        unknown ratings are set to zeros by default\n",
    "        \"\"\"\n",
    "        matrix = np.zeros((self.num_items, self.num_users))\n",
    "        for user, item, rating in zip(self.users, self.items, self.ratings):\n",
    "            matrix[item][user] = rating\n",
    "        return matrix\n",
    "    \n",
    "    def split_train_test_data(self, data, test_ratio = 0.1):\n",
    "        \"\"\"\n",
    "        train_test_split(data test_size train_size, stratify = self.df['user_id_idx'].values)로 대체 가능\n",
    "        stratify -> Label별 sampling \n",
    "        \"\"\"\n",
    "        user_id_uniq = self.data.userId.unique()\n",
    "        mask = []\n",
    "        for i in user_id_uniq:\n",
    "            data_user = self.data[self.data['userId'] == i]\n",
    "            mask.extend([True if x==1 else False for x in np.random.uniform(0,1,len(data_user))<1-test_ratio])\n",
    "        neg_mask = [not x for x in mask]\n",
    "        train_data, test_data = data[mask], data[neg_mask]\n",
    "        return train_data, test_data\n",
    "    \n",
    "    def __len__(self):\n",
    "        return len(self.matrix)\n",
    "    \n",
    "    def __getitem__(self,idx):\n",
    "        \"\"\"\n",
    "        하나의 행씩(1개의 아이템의 모든 유저에 대한 평점) 불러와 학습을 시킨다.\n",
    "        DataLoader 객체 생성시 한개씩 iter 하게 반환해줌\n",
    "        \"\"\"\n",
    "        return torch.tensor(self.matrix[idx]).float()\n",
    "        "
   ]
  },
  {
   "cell_type": "markdown",
   "id": "82b4a5f4-8c47-437d-b6cf-c030139df7f4",
   "metadata": {},
   "source": [
    "# Model (AutoRec)"
   ]
  },
  {
   "cell_type": "code",
   "execution_count": 11,
   "id": "62ccc576-3766-435d-80bd-e7e4d64f5efc",
   "metadata": {
    "ExecuteTime": {
     "end_time": "2022-02-18T11:53:04.871411Z",
     "start_time": "2022-02-18T11:53:04.856390Z"
    },
    "code_folding": []
   },
   "outputs": [],
   "source": [
    "from torch import nn\n",
    "from torch.nn import Module\n",
    "\n",
    "class AutoRec(Module):\n",
    "    \"\"\"\n",
    "    AutoRec\n",
    "    AutoRec focuses on learning/reconstructing the output layer. \n",
    "    It uses a partially observed interaction matrix as the input, \n",
    "    aiming to reconstruct a completed rating matrix. \n",
    "    In the meantime, the missing entries of the input \n",
    "    are filled in the output layer via reconstruction for the purpose of recommendation.\n",
    "    \"\"\"\n",
    "    \n",
    "    def __init__(self, num_hidden, num_users, dropout = 0.05):\n",
    "        \"\"\"\n",
    "        인코더와 디코더를 정의(대칭구조)\n",
    "        \n",
    "        \"\"\"\n",
    "        super(AutoRec,self).__init__()\n",
    "        # set latent matrix shape\n",
    "        self.encoder = nn.Sequential(\n",
    "            nn.Linear(num_users, num_hidden),\n",
    "            nn.Sigmoid(),\n",
    "            nn.Linear(num_hidden, num_hidden)\n",
    "            )\n",
    "        \n",
    "        self.decoder = nn.Sequential(\n",
    "            nn.Linear(num_hidden, num_hidden),\n",
    "            nn.Sigmoid(),\n",
    "            nn.Linear(num_hidden, num_users)\n",
    "            )\n",
    "        \n",
    "\n",
    "        #self.dropout = nn.Dropout(dropout)\n",
    "\n",
    "        \n",
    "    def forward(self, mat):\n",
    "        \"\"\"\n",
    "        input : __getitem__(mat[item]) // item 한 행씩 실행\n",
    "        \"\"\"\n",
    "        hidden = self.encoder(mat)\n",
    "        pred = self.decoder(hidden)\n",
    "        \n",
    "        return pred"
   ]
  },
  {
   "cell_type": "markdown",
   "id": "013d687c-7f7e-40dc-9200-0fbafee43059",
   "metadata": {},
   "source": [
    "# Train & evaluation function"
   ]
  },
  {
   "cell_type": "code",
   "execution_count": 12,
   "id": "a64d501d-dfd8-4ac8-9b4e-777ec9864394",
   "metadata": {
    "ExecuteTime": {
     "end_time": "2022-02-18T11:53:05.781723Z",
     "start_time": "2022-02-18T11:53:05.769695Z"
    }
   },
   "outputs": [],
   "source": [
    "def train(model, trian_iter, loss, optm, device):\n",
    "    model.train()\n",
    "    loss_sum = 0\n",
    "    \n",
    "    for matrix in trian_iter:\n",
    "        matrix = matrix.to(device)\n",
    "        \n",
    "        preds = model(matrix)\n",
    "        loss_out = loss(preds, matrix)\n",
    "        \n",
    "        # update\n",
    "        optm.zero_grad()\n",
    "        loss_out.backward()\n",
    "        optm.step()\n",
    "        \n",
    "        loss_sum += loss_out.item()\n",
    "    \n",
    "    loss_avg = loss_sum/len(trian_iter)\n",
    "    \n",
    "    return loss_avg"
   ]
  },
  {
   "cell_type": "code",
   "execution_count": 13,
   "id": "77f07480-13bf-4cc9-ad49-d6f1d3fec71c",
   "metadata": {
    "ExecuteTime": {
     "end_time": "2022-02-18T11:53:06.100065Z",
     "start_time": "2022-02-18T11:53:06.082077Z"
    },
    "code_folding": []
   },
   "outputs": [],
   "source": [
    "def evaluate(model, test_iter, device):    \n",
    "    with torch.no_grad():\n",
    "        model.eval()\n",
    "        loss = nn.MSELoss()\n",
    "        loss_sum = 0\n",
    "        \n",
    "        for matrix in test_iter:\n",
    "            matrix = matrix.to(device)\n",
    "\n",
    "            preds = model(matrix)\n",
    "            loss_out = loss(preds, matrix)\n",
    "            \n",
    "            loss_sum += loss_out.item()\n",
    "\n",
    "    loss_avg = loss_sum / len(test_iter)\n",
    "    \n",
    "    return loss_avg"
   ]
  },
  {
   "cell_type": "markdown",
   "id": "becfd412-75bd-4a40-8645-1192552dc1c7",
   "metadata": {},
   "source": [
    "# Let's go"
   ]
  },
  {
   "cell_type": "code",
   "execution_count": 14,
   "id": "22031b88-3ad8-4f1b-bdbe-9ed592374874",
   "metadata": {
    "ExecuteTime": {
     "end_time": "2022-02-18T11:53:07.583653Z",
     "start_time": "2022-02-18T11:53:07.511683Z"
    }
   },
   "outputs": [
    {
     "data": {
      "text/plain": [
       "device(type='cuda')"
      ]
     },
     "execution_count": 14,
     "metadata": {},
     "output_type": "execute_result"
    }
   ],
   "source": [
    "# 파라미터 설정\n",
    "\n",
    "device = torch.device('cuda') if torch.cuda.is_available() else torch.device('cpu') # device 설정\n",
    "\n",
    "num_hidden = 10 # Latent factor 수\n",
    "batch_size = 128 # 배치사이즈\n",
    "epochs = 31 # 에포크 수\n",
    "lr = 0.005 # 학습률\n",
    "\n",
    "device"
   ]
  },
  {
   "cell_type": "code",
   "execution_count": 15,
   "id": "8c541164-dc2d-4186-a8f5-e674d5a94e34",
   "metadata": {
    "ExecuteTime": {
     "end_time": "2022-02-18T11:53:09.655088Z",
     "start_time": "2022-02-18T11:53:07.980654Z"
    },
    "tags": []
   },
   "outputs": [],
   "source": [
    "from torch.utils.data import DataLoader\n",
    "\n",
    "# train/test data 불러오기 by Dataset&Dataloader\n",
    "train_dataset = MovielensDataset(data = data, train = True)\n",
    "test_dataset = MovielensDataset(data = data, train = False)\n",
    "\n",
    "train_loader = DataLoader(train_dataset, batch_size = batch_size, shuffle = True)\n",
    "test_loader = DataLoader(test_dataset, batch_size = batch_size, shuffle = True)"
   ]
  },
  {
   "cell_type": "code",
   "execution_count": 16,
   "id": "118d7559-e612-46f0-95d9-05c65bea3835",
   "metadata": {
    "ExecuteTime": {
     "end_time": "2022-02-18T11:53:17.885243Z",
     "start_time": "2022-02-18T11:53:14.682037Z"
    },
    "tags": []
   },
   "outputs": [],
   "source": [
    "# 모델 객체 생성 \n",
    "model = AutoRec(num_hidden, num_users).to(device)\n",
    "loss = nn.MSELoss() # loss 객체\n",
    "optm = torch.optim.Adam(model.parameters(), lr = lr) # optimizer 객체"
   ]
  },
  {
   "cell_type": "code",
   "execution_count": 17,
   "id": "003ae8c1-6200-4a80-94f8-4e71e21b4f78",
   "metadata": {
    "ExecuteTime": {
     "end_time": "2022-02-18T11:53:31.970277Z",
     "start_time": "2022-02-18T11:53:17.918245Z"
    },
    "tags": []
   },
   "outputs": [
    {
     "name": "stdout",
     "output_type": "stream",
     "text": [
      "epoch: 0, train Loss: 0.2067, test Loss: 0.0295\n",
      "epoch: 5, train Loss: 0.1640, test Loss: 0.0231\n",
      "epoch: 10, train Loss: 0.1558, test Loss: 0.0227\n",
      "epoch: 15, train Loss: 0.1517, test Loss: 0.0224\n",
      "epoch: 20, train Loss: 0.1483, test Loss: 0.0221\n",
      "epoch: 25, train Loss: 0.1464, test Loss: 0.0226\n",
      "epoch: 30, train Loss: 0.1449, test Loss: 0.0224\n"
     ]
    },
    {
     "data": {
      "image/png": "[encoded data removed]",
      "text/plain": [
       "<Figure size 576x360 with 1 Axes>"
      ]
     },
     "metadata": {
      "needs_background": "light"
     },
     "output_type": "display_data"
    }
   ],
   "source": [
    "# 학습\n",
    "train_losses = []\n",
    "test_losses = []\n",
    "\n",
    "for epoch in range(epochs):\n",
    "\n",
    "    train_loss = train(model, train_loader, loss, optm, device)\n",
    "    test_loss = evaluate(model, test_loader, device)\n",
    "\n",
    "    train_losses.append(train_loss)\n",
    "    test_losses.append(test_loss)\n",
    "    \n",
    "    if epoch%5==0:\n",
    "        print(f'epoch: {epoch}, train Loss: {train_loss:.4f}, test Loss: {test_loss:.4f}')\n",
    "\n",
    "        \n",
    "# 그래프\n",
    "fig, ax = plt.subplots(1,1, figsize = (8,5))\n",
    "\n",
    "ax.plot(train_losses, label = 'train_loss',\n",
    "       color = 'red',\n",
    "       marker = '*',\n",
    "       linestyle = '--')\n",
    "ax.plot(test_losses, label = 'test_loss',\n",
    "       color = 'blue',\n",
    "       marker = '.')\n",
    "\n",
    "ax.set_title('Train&test loss')\n",
    "ax.set_xlabel('Epoch')\n",
    "ax.set_ylabel('Loss')\n",
    "ax.legend()\n",
    "plt.show()"
   ]
  },
  {
   "cell_type": "code",
   "execution_count": 26,
   "id": "e652ba96-efdd-472c-b8d8-b799664c8895",
   "metadata": {
    "ExecuteTime": {
     "end_time": "2022-02-18T11:55:18.438461Z",
     "start_time": "2022-02-18T11:55:18.421439Z"
    }
   },
   "outputs": [
    {
     "data": {
      "text/plain": [
       "tensor([0.0000, 0.0000, 0.0000, 0.0000, 0.0000, 0.0000, 0.0000, 0.0000, 0.0000,\n",
       "        0.0000, 0.0000, 0.0000, 0.0000, 0.0000, 0.0000, 0.0000, 0.0000, 0.0000,\n",
       "        0.0000, 0.0000, 0.0000, 0.0000, 3.0000, 0.0000, 0.0000, 0.0000, 0.0000,\n",
       "        0.0000, 0.0000, 0.0000, 0.0000, 0.0000, 0.0000, 0.0000, 0.0000, 0.0000,\n",
       "        0.0000, 0.0000, 0.0000, 0.0000, 0.0000, 0.0000, 0.0000, 0.0000, 0.0000,\n",
       "        0.0000, 0.0000, 0.0000, 0.0000, 0.0000, 0.0000, 0.0000, 0.0000, 0.0000,\n",
       "        0.0000, 0.0000, 0.0000, 0.0000, 0.0000, 0.0000, 0.0000, 0.0000, 0.0000,\n",
       "        0.0000, 0.0000, 4.0000, 0.0000, 0.0000, 0.0000, 0.0000, 0.0000, 0.0000,\n",
       "        0.0000, 0.0000, 0.0000, 0.0000, 0.0000, 0.0000, 0.0000, 0.0000, 0.0000,\n",
       "        0.0000, 0.0000, 0.0000, 0.0000, 0.0000, 0.0000, 0.0000, 0.0000, 0.0000,\n",
       "        0.0000, 0.0000, 0.0000, 0.0000, 0.0000, 0.0000, 0.0000, 0.0000, 0.0000,\n",
       "        0.0000, 0.0000, 0.0000, 0.0000, 0.0000, 0.0000, 0.0000, 0.0000, 0.0000,\n",
       "        0.0000, 0.0000, 0.0000, 0.0000, 0.0000, 0.0000, 0.0000, 0.0000, 0.0000,\n",
       "        0.0000, 0.0000, 0.0000, 0.0000, 0.0000, 0.0000, 0.0000, 0.0000, 0.0000,\n",
       "        0.0000, 0.0000, 0.0000, 0.0000, 0.0000, 0.0000, 0.0000, 0.0000, 0.0000,\n",
       "        0.0000, 0.0000, 0.0000, 0.0000, 0.0000, 0.0000, 0.0000, 0.0000, 0.0000,\n",
       "        0.0000, 0.0000, 0.0000, 0.0000, 0.0000, 0.0000, 0.0000, 0.0000, 0.0000,\n",
       "        0.0000, 0.0000, 0.0000, 0.0000, 0.0000, 0.0000, 0.0000, 0.0000, 0.0000,\n",
       "        0.0000, 0.0000, 0.0000, 0.0000, 0.0000, 0.0000, 0.0000, 0.0000, 0.0000,\n",
       "        0.0000, 0.0000, 0.0000, 0.0000, 0.0000, 0.0000, 0.0000, 0.0000, 0.0000,\n",
       "        0.0000, 0.0000, 0.0000, 0.0000, 0.0000, 0.0000, 0.0000, 0.0000, 0.0000,\n",
       "        0.0000, 0.0000, 0.0000, 0.0000, 0.0000, 0.0000, 0.0000, 0.0000, 0.0000,\n",
       "        0.0000, 0.0000, 0.0000, 0.0000, 0.0000, 0.0000, 0.0000, 0.0000, 0.0000,\n",
       "        0.0000, 0.0000, 0.0000, 0.0000, 0.0000, 0.0000, 0.0000, 0.0000, 0.0000,\n",
       "        0.0000, 0.0000, 0.0000, 0.0000, 0.0000, 0.0000, 0.0000, 0.0000, 0.0000,\n",
       "        0.0000, 0.0000, 0.0000, 0.0000, 0.0000, 0.0000, 0.0000, 0.0000, 0.0000,\n",
       "        0.0000, 0.0000, 0.0000, 0.0000, 0.0000, 0.0000, 0.0000, 0.0000, 0.0000,\n",
       "        0.0000, 0.0000, 0.0000, 0.0000, 0.0000, 0.0000, 0.0000, 0.0000, 0.0000,\n",
       "        0.0000, 0.0000, 0.0000, 0.0000, 0.0000, 0.0000, 0.0000, 0.0000, 0.0000,\n",
       "        0.0000, 0.0000, 0.0000, 0.0000, 0.0000, 0.0000, 0.0000, 0.0000, 0.0000,\n",
       "        0.0000, 0.0000, 0.0000, 0.0000, 0.0000, 0.0000, 0.0000, 0.0000, 0.0000,\n",
       "        0.0000, 0.0000, 0.0000, 0.0000, 0.0000, 0.0000, 0.0000, 0.0000, 0.0000,\n",
       "        0.0000, 0.0000, 0.0000, 0.0000, 0.0000, 0.0000, 0.0000, 0.0000, 0.0000,\n",
       "        0.0000, 0.0000, 0.0000, 0.0000, 0.0000, 0.0000, 0.0000, 0.0000, 0.0000,\n",
       "        0.0000, 0.0000, 0.0000, 0.0000, 0.0000, 0.0000, 0.0000, 0.0000, 0.0000,\n",
       "        0.0000, 0.0000, 0.0000, 0.0000, 0.0000, 0.0000, 0.0000, 0.0000, 0.0000,\n",
       "        0.0000, 0.0000, 0.0000, 0.0000, 0.0000, 0.0000, 0.0000, 0.0000, 0.0000,\n",
       "        0.0000, 0.0000, 0.0000, 0.0000, 0.0000, 0.0000, 0.0000, 0.0000, 0.0000,\n",
       "        0.0000, 0.0000, 0.0000, 3.5000, 0.0000, 0.0000, 0.0000, 0.0000, 0.0000,\n",
       "        0.0000, 0.0000, 0.0000, 0.0000, 0.0000, 0.0000, 0.0000, 0.0000, 0.0000,\n",
       "        0.0000, 0.0000, 0.0000, 0.0000, 0.0000, 0.0000, 0.0000, 0.0000, 0.0000,\n",
       "        0.0000, 0.0000, 0.0000, 0.0000, 0.0000, 0.0000, 0.0000, 0.0000, 0.0000,\n",
       "        0.0000, 0.0000, 0.0000, 0.0000, 0.0000, 0.0000, 0.0000, 0.0000, 0.0000,\n",
       "        0.0000, 0.0000, 0.0000, 0.0000, 0.0000, 0.0000, 0.0000, 0.0000, 0.0000,\n",
       "        0.0000, 0.0000, 0.0000, 0.0000, 0.0000, 0.0000, 0.0000, 0.0000, 0.0000,\n",
       "        0.0000, 0.0000, 0.0000, 0.0000, 0.0000, 0.0000, 0.0000, 0.0000, 0.0000,\n",
       "        0.0000, 0.0000, 0.0000, 0.0000, 0.0000, 0.0000, 0.0000, 0.0000, 0.0000,\n",
       "        0.0000, 0.0000, 0.0000, 0.0000, 0.0000, 0.0000, 0.0000, 0.0000, 0.0000,\n",
       "        0.0000, 0.0000, 0.0000, 0.0000, 0.0000, 0.0000, 0.0000, 0.0000, 0.0000,\n",
       "        0.0000, 0.0000, 0.0000, 0.0000, 0.0000, 0.0000, 0.0000, 0.0000, 0.0000,\n",
       "        0.0000, 0.0000, 0.0000, 0.0000, 0.0000, 0.0000, 0.0000, 0.0000, 0.0000,\n",
       "        0.0000, 0.0000, 0.0000, 0.0000, 0.0000, 0.0000, 0.0000, 0.0000, 0.0000,\n",
       "        0.0000, 0.0000, 0.0000, 0.0000, 0.0000, 3.5000, 0.0000, 0.0000, 0.0000,\n",
       "        0.0000, 0.0000, 0.0000, 0.0000, 0.0000, 0.0000, 0.0000, 0.0000, 0.0000,\n",
       "        0.0000, 0.0000, 0.0000, 0.0000, 0.0000, 0.0000, 0.0000, 0.0000, 0.0000,\n",
       "        0.0000, 0.0000, 0.0000, 0.0000, 0.0000, 0.0000, 0.0000, 0.0000, 0.0000,\n",
       "        0.0000, 0.0000, 0.0000, 0.0000, 0.0000, 0.0000, 0.0000, 0.0000, 0.0000,\n",
       "        0.0000, 0.0000, 0.0000, 0.0000, 0.0000, 0.0000, 0.0000, 0.0000, 0.0000,\n",
       "        0.0000, 0.0000, 0.0000, 0.0000, 0.0000, 0.0000, 0.0000, 0.0000, 0.0000,\n",
       "        0.0000, 0.0000, 0.0000, 0.0000, 0.0000, 0.0000, 0.0000, 0.0000, 0.0000,\n",
       "        0.0000, 0.0000, 0.0000, 0.0000, 0.0000, 0.0000, 0.0000, 0.0000, 0.0000,\n",
       "        0.0000, 0.0000, 0.0000, 0.0000, 0.0000, 0.0000, 0.0000, 0.0000, 0.0000,\n",
       "        0.0000, 0.0000, 0.0000, 0.0000, 0.0000, 0.0000, 0.0000, 0.0000, 0.0000,\n",
       "        0.0000, 0.0000, 0.0000, 0.0000, 0.0000, 0.0000, 0.0000, 0.0000, 0.0000,\n",
       "        0.0000, 0.0000, 0.0000, 0.0000, 0.0000, 0.0000, 0.0000, 0.0000, 0.0000,\n",
       "        0.0000, 0.0000, 0.0000, 0.0000, 0.0000, 0.0000, 0.0000, 0.0000, 0.0000,\n",
       "        0.0000, 0.0000, 0.0000, 0.0000, 0.0000, 0.0000, 0.0000, 0.0000, 0.0000,\n",
       "        0.0000, 0.0000, 0.0000, 0.0000, 0.0000, 0.0000, 0.0000])"
      ]
     },
     "execution_count": 26,
     "metadata": {},
     "output_type": "execute_result"
    }
   ],
   "source": [
    "next(iter(train_loader))[1]"
   ]
  },
  {
   "cell_type": "code",
   "execution_count": null,
   "id": "f99b2d12",
   "metadata": {},
   "outputs": [],
   "source": []
  }
 ],
 "metadata": {
  "hide_input": false,
  "kernelspec": {
   "display_name": "Python 3 (ipykernel)",
   "language": "python",
   "name": "python3"
  },
  "language_info": {
   "codemirror_mode": {
    "name": "ipython",
    "version": 3
   },
   "file_extension": ".py",
   "mimetype": "text/x-python",
   "name": "python",
   "nbconvert_exporter": "python",
   "pygments_lexer": "ipython3",
   "version": "3.8.12"
  },
  "latex_envs": {
   "LaTeX_envs_menu_present": true,
   "autoclose": false,
   "autocomplete": true,
   "bibliofile": "biblio.bib",
   "cite_by": "apalike",
   "current_citInitial": 1,
   "eqLabelWithNumbers": true,
   "eqNumInitial": 1,
   "hotkeys": {
    "equation": "Ctrl-E",
    "itemize": "Ctrl-I"
   },
   "labels_anchors": false,
   "latex_user_defs": false,
   "report_style_numbering": false,
   "user_envs_cfg": false
  },
  "toc": {
   "base_numbering": 1,
   "nav_menu": {},
   "number_sections": true,
   "sideBar": true,
   "skip_h1_title": false,
   "title_cell": "Table of Contents",
   "title_sidebar": "Contents",
   "toc_cell": false,
   "toc_position": {},
   "toc_section_display": true,
   "toc_window_display": true
  },
  "varInspector": {
   "cols": {
    "lenName": 16,
    "lenType": 16,
    "lenVar": 40
   },
   "kernels_config": {
    "python": {
     "delete_cmd_postfix": "",
     "delete_cmd_prefix": "del ",
     "library": "var_list.py",
     "varRefreshCmd": "print(var_dic_list())"
    },
    "r": {
     "delete_cmd_postfix": ") ",
     "delete_cmd_prefix": "rm(",
     "library": "var_list.r",
     "varRefreshCmd": "cat(var_dic_list()) "
    }
   },
   "types_to_exclude": [
    "module",
    "function",
    "builtin_function_or_method",
    "instance",
    "_Feature"
   ],
   "window_display": false
  },
  "widgets": {
   "application/vnd.jupyter.widget-state+json": {
    "state": {},
    "version_major": 2,
    "version_minor": 0
   }
  }
 },
 "nbformat": 4,
 "nbformat_minor": 5
}
